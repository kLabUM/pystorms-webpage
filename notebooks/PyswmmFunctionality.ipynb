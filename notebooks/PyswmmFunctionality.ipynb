{
 "cells": [
  {
   "cell_type": "markdown",
   "metadata": {},
   "source": [
    "# `pyswmm` functionality"
   ]
  },
  {
   "cell_type": "markdown",
   "metadata": {},
   "source": [
    "`pystorms` is built on `pyswmm`. It uses `pyswmm` as its backend for interacting with EPA-SWMM's computational engine. Hence, all the functionality in `pyswmm` is inheretly available in `pystorms`. `pystorms` by defaults supports a subset of the states though its API. These subsets of states (i.e. depth, flows, inflows) were chosen to represent freqently used parameters for making control decisions. Refer to the documentation on states for more details on the supported paramerters. `pystorms` architecture is desingned to enable users easy access to all the existing pyswmm functionality."
   ]
  },
  {
   "cell_type": "code",
   "execution_count": 1,
   "metadata": {},
   "outputs": [],
   "source": [
    "import pystorms\n",
    "import numpy as np\n",
    "import matplotlib.pyplot as plt\n",
    "import pyswmm.toolkitapi as tkai"
   ]
  },
  {
   "cell_type": "markdown",
   "metadata": {},
   "source": [
    "This example demonstrates how pyswmm functionality can be invoked from pystorms."
   ]
  },
  {
   "cell_type": "code",
   "execution_count": 2,
   "metadata": {},
   "outputs": [],
   "source": [
    "env = pystorms.scenarios.theta()"
   ]
  },
  {
   "cell_type": "markdown",
   "metadata": {},
   "source": [
    "All function calls being used in the environment for populating state vector are listed in the `env.env.methods` dictonary. "
   ]
  },
  {
   "cell_type": "code",
   "execution_count": 3,
   "metadata": {},
   "outputs": [
    {
     "data": {
      "text/plain": [
       "{'depthN': <bound method environment._getNodeDepth of <pystorms.environment.environment object at 0x11929d690>>,\n",
       " 'depthL': <bound method environment._getLinkDepth of <pystorms.environment.environment object at 0x11929d690>>,\n",
       " 'flow': <bound method environment._getLinkFlow of <pystorms.environment.environment object at 0x11929d690>>,\n",
       " 'flooding': <bound method environment._getNodeFlooding of <pystorms.environment.environment object at 0x11929d690>>,\n",
       " 'inflow': <bound method environment._getNodeInflow of <pystorms.environment.environment object at 0x11929d690>>,\n",
       " 'pollutantN': <bound method environment._getNodePollutant of <pystorms.environment.environment object at 0x11929d690>>,\n",
       " 'pollutantL': <bound method environment._getLinkPollutant of <pystorms.environment.environment object at 0x11929d690>>}"
      ]
     },
     "execution_count": 3,
     "metadata": {},
     "output_type": "execute_result"
    }
   ],
   "source": [
    "env.env.methods"
   ]
  },
  {
   "cell_type": "markdown",
   "metadata": {},
   "source": [
    "Let us say, we want to use volume as a state. All we have to do is add the function call reading volume to the dict. "
   ]
  },
  {
   "cell_type": "code",
   "execution_count": 4,
   "metadata": {},
   "outputs": [],
   "source": [
    "def _getNodeVolume(NodeID):\n",
    "    return env.env.sim._model.getNodeResult(NodeID, tkai.NodeResults.newVolume.value)"
   ]
  },
  {
   "cell_type": "code",
   "execution_count": 5,
   "metadata": {},
   "outputs": [],
   "source": [
    "env.env.methods[\"volumeN\"] = _getNodeVolume"
   ]
  },
  {
   "cell_type": "markdown",
   "metadata": {},
   "source": [
    "Lets add the desciption to the state vector"
   ]
  },
  {
   "cell_type": "code",
   "execution_count": 6,
   "metadata": {},
   "outputs": [
    {
     "data": {
      "text/plain": [
       "[('P1', 'depthN'), ('P2', 'depthN')]"
      ]
     },
     "execution_count": 6,
     "metadata": {},
     "output_type": "execute_result"
    }
   ],
   "source": [
    "env.config[\"states\"]"
   ]
  },
  {
   "cell_type": "code",
   "execution_count": 7,
   "metadata": {},
   "outputs": [],
   "source": [
    "env.config[\"states\"].append(('P1', 'volumeN'))\n",
    "env.config[\"states\"].append(('P2', 'volumeN'))"
   ]
  },
  {
   "cell_type": "code",
   "execution_count": 8,
   "metadata": {},
   "outputs": [
    {
     "data": {
      "text/plain": [
       "[('P1', 'depthN'), ('P2', 'depthN'), ('P1', 'volumeN'), ('P2', 'volumeN')]"
      ]
     },
     "execution_count": 8,
     "metadata": {},
     "output_type": "execute_result"
    }
   ],
   "source": [
    "env.config[\"states\"]"
   ]
  },
  {
   "cell_type": "markdown",
   "metadata": {},
   "source": [
    "Now when `env.state()` is called, it returns all both depth and volume in nodes"
   ]
  },
  {
   "cell_type": "code",
   "execution_count": 9,
   "metadata": {},
   "outputs": [
    {
     "data": {
      "text/plain": [
       "array([0., 0., 0., 0.])"
      ]
     },
     "execution_count": 9,
     "metadata": {},
     "output_type": "execute_result"
    }
   ],
   "source": [
    "env.state()"
   ]
  },
  {
   "cell_type": "markdown",
   "metadata": {},
   "source": [
    "Refer to pyswmm documentation for details on the all supported parameters."
   ]
  },
  {
   "cell_type": "code",
   "execution_count": null,
   "metadata": {},
   "outputs": [],
   "source": []
  }
 ],
 "metadata": {
  "kernelspec": {
   "display_name": "Python 3",
   "language": "python",
   "name": "python3"
  },
  "language_info": {
   "codemirror_mode": {
    "name": "ipython",
    "version": 3
   },
   "file_extension": ".py",
   "mimetype": "text/x-python",
   "name": "python",
   "nbconvert_exporter": "python",
   "pygments_lexer": "ipython3",
   "version": "3.7.6"
  }
 },
 "nbformat": 4,
 "nbformat_minor": 2
}
